{
 "cells": [
  {
   "cell_type": "markdown",
   "metadata": {
    "collapsed": true
   },
   "source": [
    "# Example Code"
   ]
  },
  {
   "cell_type": "code",
   "execution_count": 1,
   "metadata": {},
   "outputs": [],
   "source": [
    "from celestial_bodies.celestial_bodies import *\n",
    "from facts.fact_sheets import planetary_facts, sun_facts"
   ]
  },
  {
   "cell_type": "markdown",
   "metadata": {},
   "source": [
    "## Example 1: Earth"
   ]
  },
  {
   "cell_type": "markdown",
   "metadata": {},
   "source": [
    "Here we show basic calculations for a planetary body based solely on mass and radius (e.g., gravitational acceleration)."
   ]
  },
  {
   "cell_type": "code",
   "execution_count": 2,
   "metadata": {},
   "outputs": [
    {
     "name": "stdout",
     "output_type": "stream",
     "text": [
      "PlanetaryBody:\n    mass: 5.97e+24 kilograms\n    radius: 6378.0 kilometers\n    volume: 1086781292542.8892 cubic kilometers\n    density: 5493.285577295119 kilograms per cubic meter\n    gravitational_acceleration: 9.793240640524946 meters / second squared\n"
     ]
    }
   ],
   "source": [
    "earth = PlanetaryBody(planetary_facts[\"Earth\"][\"mass\"],\n",
    "                      planetary_facts[\"Earth\"][\"radius\"])\n",
    "print(earth)"
   ]
  },
  {
   "cell_type": "markdown",
   "metadata": {},
   "source": [
    "We can also calculate the weight of a person on the surface of the planet based on their mass. This won't be an exciting calculation for Earth, but we could easily calculate our weight on Mars."
   ]
  },
  {
   "cell_type": "code",
   "execution_count": 3,
   "metadata": {},
   "outputs": [
    {
     "data": {
      "text/plain": [
       "26.53339082889333"
      ]
     },
     "execution_count": 3,
     "metadata": {},
     "output_type": "execute_result"
    }
   ],
   "source": [
    "mars = PlanetaryBody(planetary_facts[\"Mars\"][\"mass\"], \n",
    "                     planetary_facts[\"Mars\"][\"radius\"])\n",
    "weight_of_a_person_in_kg = 70\n",
    "mars.calculate_weight_on_surface(weight_of_a_person_in_kg)"
   ]
  },
  {
   "cell_type": "markdown",
   "metadata": {},
   "source": [
    "## Example 2: the Sun"
   ]
  },
  {
   "cell_type": "markdown",
   "metadata": {},
   "source": [
    "Solar bodies are similar to planets in some respects, but different in others. As you can see, an average temperature is required, but also us to calculate the Luminosity of the sun."
   ]
  },
  {
   "cell_type": "code",
   "execution_count": 4,
   "metadata": {},
   "outputs": [
    {
     "name": "stdout",
     "output_type": "stream",
     "text": [
      "SolarBody:\n    mass: 1.9885e+30 kilograms\n    radius: 695700 kilometers\n    volume: 1.410440010853996e+18 cubic kilometers\n    density: 1409.8437258568686 kilograms per cubic meter\n    gravitational_acceleration: 274.1591301245588 meters / second squared\n    luminosity: 3.8436787230494296e+26 Joules / second\n"
     ]
    }
   ],
   "source": [
    "sol = SolarBody(sun_facts[\"mass\"], sun_facts[\"radius\"],\n",
    "                sun_facts[\"mean temperature\"])\n",
    "print(sol)"
   ]
  },
  {
   "cell_type": "markdown",
   "metadata": {},
   "source": [
    "## Example 3: Sagittaius A*"
   ]
  },
  {
   "cell_type": "markdown",
   "metadata": {},
   "source": [
    "Black holes also exhibit different characteristics. For example, we can calculate the event horizon (i.e., radius) of the black hole using only its mass."
   ]
  },
  {
   "cell_type": "code",
   "execution_count": 5,
   "metadata": {},
   "outputs": [
    {
     "name": "stdout",
     "output_type": "stream",
     "text": [
      "BlackHole:\n    mass: 7.954e+36 kilograms\n    radius: 11811234.751292054 kilometers\n    volume: 6.901992979891329e+21 cubic kilometers\n    density: 1152420.760666325 kilograms per cubic meter\n    gravitational_acceleration: 3804662.2459963425 meters / second squared\n"
     ]
    }
   ],
   "source": [
    "sag_a = BlackHole(sun_facts[\"mass\"] * 4000000)\n",
    "print(sag_a)"
   ]
  },
  {
   "cell_type": "code",
   "execution_count": null,
   "metadata": {},
   "outputs": [],
   "source": []
  }
 ],
 "metadata": {
  "kernelspec": {
   "display_name": "Python 2",
   "language": "python",
   "name": "python2"
  },
  "language_info": {
   "codemirror_mode": {
    "name": "ipython",
    "version": 2
   },
   "file_extension": ".py",
   "mimetype": "text/x-python",
   "name": "python",
   "nbconvert_exporter": "python",
   "pygments_lexer": "ipython2",
   "version": "2.7.6"
  }
 },
 "nbformat": 4,
 "nbformat_minor": 0
}
